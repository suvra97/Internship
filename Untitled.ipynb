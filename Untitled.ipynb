{
 "cells": [
  {
   "cell_type": "code",
   "execution_count": 21,
   "metadata": {},
   "outputs": [],
   "source": [
    "import cv2\n",
    "import pytesseract\n",
    "import numpy as np\n",
    "import imutils\n",
    "from imutils.object_detection import non_max_suppression"
   ]
  },
  {
   "cell_type": "code",
   "execution_count": 22,
   "metadata": {},
   "outputs": [],
   "source": [
    "pytesseract.pytesseract.tesseract_cmd = r'C:\\\\Program Files\\\\Tesseract-OCR\\\\tesseract.exe'"
   ]
  },
  {
   "cell_type": "code",
   "execution_count": 23,
   "metadata": {},
   "outputs": [],
   "source": [
    "vid=cv2.VideoCapture(\"F:/Bublu/Internship/data/Task_4_Moving_pipe_OCR.mp4\")\n",
    "east_model=\"F:/Bublu/Internship/frozen_east_text_detection.pb\"\n",
    "min_conf=0.5\n",
    "width=320\n",
    "height=320"
   ]
  },
  {
   "cell_type": "code",
   "execution_count": 24,
   "metadata": {},
   "outputs": [
    {
     "data": {
      "text/plain": [
       "-1"
      ]
     },
     "execution_count": 24,
     "metadata": {},
     "output_type": "execute_result"
    }
   ],
   "source": [
    "image = cv2.imread(r\"F:\\Bublu\\Internship\\data\\image.jpg\",cv2.IMREAD_COLOR)\n",
    "image=cv2.resize(image,(800,450))\n",
    "cv2.imshow('images',image)\n",
    "cv2.waitKey(0)"
   ]
  },
  {
   "cell_type": "code",
   "execution_count": 25,
   "metadata": {},
   "outputs": [],
   "source": [
    "\n",
    "#Saving a original image and shape\n",
    "orig = image.copy()\n",
    "(origH, origW) = image.shape[:2]\n",
    "\n",
    "# set the new height and width to default 320 by using args #dictionary.  \n",
    "(newW, newH) = (width, height)\n",
    "\n",
    "#Calculate the ratio between original and new image for both height and weight. \n",
    "#This ratio will be used to translate bounding box location on the original image. \n",
    "rW = origW / float(newW)\n",
    "rH = origH / float(newH)\n",
    "\n",
    "# resize the original image to new dimensions\n",
    "image = cv2.resize(image, (newW, newH))\n",
    "(H, W) = image.shape[:2]\n",
    "\n",
    "# construct a blob from the image to forward pass it to EAST model\n",
    "blob = cv2.dnn.blobFromImage(image, 1.0, (W, H),(123.68, 116.78, 103.94), swapRB=True, crop=False)\n",
    "net = cv2.dnn.readNet(east_model)\n",
    "\n",
    "# The following two layer need to pulled from EAST model for achieving this. \n",
    "layerNames = [\"feature_fusion/Conv_7/Sigmoid\",\"feature_fusion/concat_3\"]\n",
    "  \n",
    "#Forward pass the blob from the image to get the desired output layers\n",
    "net.setInput(blob)\n",
    "(scores, geometry) = net.forward(layerNames)\n"
   ]
  },
  {
   "cell_type": "code",
   "execution_count": 26,
   "metadata": {},
   "outputs": [],
   "source": [
    "def predictions(prob_score, geo):\n",
    "\t(numR, numC) = prob_score.shape[2:4]\n",
    "\tboxes = []\n",
    "\tconfidence_val = []\n",
    "\n",
    "\t# loop over rows\n",
    "\tfor y in range(0, numR):\n",
    "\t\tscoresData = prob_score[0, 0, y]\n",
    "\t\tx0 = geo[0, 0, y]\n",
    "\t\tx1 = geo[0, 1, y]\n",
    "\t\tx2 = geo[0, 2, y]\n",
    "\t\tx3 = geo[0, 3, y]\n",
    "\t\tanglesData = geo[0, 4, y]\n",
    "\n",
    "\t\t# loop over the number of columns\n",
    "\t\tfor i in range(0, numC):\n",
    "\t\t\tif scoresData[i] <min_conf:\n",
    "\t\t\t\tcontinue\n",
    "\n",
    "\t\t\t(offX, offY) = (i * 4.0, y * 4.0)\n",
    "\n",
    "\t\t\t# extracting the rotation angle for the prediction and computing the sine and cosine\n",
    "\t\t\tangle = anglesData[i]\n",
    "\t\t\tcos = np.cos(angle)\n",
    "\t\t\tsin = np.sin(angle)\n",
    "\n",
    "\t\t\t# using the geo volume to get the dimensions of the bounding box\n",
    "\t\t\th = x0[i] + x2[i]\n",
    "\t\t\tw = x1[i] + x3[i]\n",
    "\n",
    "\t\t\t# compute start and end for the text pred bbox\n",
    "\t\t\tendX = int(offX + (cos * x1[i]) + (sin * x2[i]))\n",
    "\t\t\tendY = int(offY - (sin * x1[i]) + (cos * x2[i]))\n",
    "\t\t\tstartX = int(endX - w)\n",
    "\t\t\tstartY = int(endY - h)\n",
    "\n",
    "\t\t\tboxes.append((startX, startY, endX, endY))\n",
    "\t\t\tconfidence_val.append(scoresData[i])\n",
    "\n",
    "\t# return bounding boxes and associated confidence_val\n",
    "\treturn (boxes, confidence_val)"
   ]
  },
  {
   "cell_type": "code",
   "execution_count": 27,
   "metadata": {},
   "outputs": [],
   "source": [
    "(rects, confidences) =predictions(scores, geometry)\n",
    "boxes = non_max_suppression(np.array(rects), probs=confidences)\n",
    "for (startX, startY, endX, endY) in boxes:\n",
    "    # scale the bounding box coordinates based on the respective\n",
    "    # ratios\n",
    "    startX = int(startX * rW)\n",
    "    startY = int(startY * rH)\n",
    "    endX = int(endX * rW)\n",
    "    endY = int(endY * rH)\n",
    "    boundary=2\n",
    "    config = (\"-l eng --oem 1 --psm 7\")\n",
    "    r = orig[startY-boundary:endY+boundary, startX-boundary:endX+boundary]\n",
    "    r=cv2.cvtColor(r.astype(np.uint8),cv2.COLOR_BGR2GRAY)\n",
    "    textrecog = pytesseract.image_to_string(cv2.rotate(r, cv2.ROTATE_180),config=config)\n",
    "    # draw the bounding box on the frame\n",
    "    cv2.rectangle(orig, (startX, startY), (endX, endY), (0, 255, 0), 2)\n",
    "    # Put text\n",
    "    cv2.putText(orig,textrecog, (startX, startY - 30),cv2.FONT_HERSHEY_SIMPLEX, 0.7,(0,0, 255), 2)\n",
    "    cv2.imshow(\"Text Detection\", orig)\n",
    "    key = cv2.waitKey(0) \n",
    "    \n"
   ]
  },
  {
   "cell_type": "code",
   "execution_count": 70,
   "metadata": {},
   "outputs": [],
   "source": [
    "def decode_predictions(scores, geometry):\n",
    "    # grab the number of rows and columns from the scores volume, then\n",
    "    # initialize our set of bounding box rectangles and corresponding\n",
    "    # confidence scores\n",
    "    (numRows, numCols) = scores.shape[2:4]\n",
    "    rects = []\n",
    "    confidences = []\n",
    "    # loop over the number of rows\n",
    "    for y in range(0, numRows):\n",
    "        # extract the scores (probabilities), followed by the\n",
    "        # geometrical data used to derive potential bounding box\n",
    "        # coordinates that surround text\n",
    "        scoresData = scores[0, 0, y]\n",
    "        xData0 = geometry[0, 0, y]\n",
    "        xData1 = geometry[0, 1, y]\n",
    "        xData2 = geometry[0, 2, y]\n",
    "        xData3 = geometry[0, 3, y]\n",
    "        anglesData = geometry[0, 4, y]\n",
    "        # loop over the number of columns\n",
    "        for x in range(0, numCols):\n",
    "            # if our score does not have sufficient probability,\n",
    "            # ignore it\n",
    "            if scoresData[x] < min_conf:\n",
    "                continue\n",
    "            # compute the offset factor as our resulting feature\n",
    "            # maps will be 4x smaller than the input image\n",
    "            (offsetX, offsetY) = (x * 4.0, y * 4.0)\n",
    "            # extract the rotation angle for the prediction and\n",
    "            # then compute the sin and cosine\n",
    "            angle = anglesData[x]\n",
    "            cos = np.cos(angle)\n",
    "            sin = np.sin(angle)\n",
    "            # use the geometry volume to derive the width and height\n",
    "            # of the bounding box\n",
    "            h = xData0[x] + xData2[x]\n",
    "            w = xData1[x] + xData3[x]\n",
    "            # compute both the starting and ending (x, y)-coordinates\n",
    "            # for the text prediction bounding box\n",
    "            endX = int(offsetX + (cos * xData1[x]) + (sin * xData2[x]))\n",
    "            endY = int(offsetY - (sin * xData1[x]) + (cos * xData2[x]))\n",
    "            startX = int(endX - w)\n",
    "            startY = int(endY - h)\n",
    "            # add the bounding box coordinates and probability score\n",
    "            # to our respective lists\n",
    "            rects.append((startX, startY, endX, endY))\n",
    "            confidences.append(scoresData[x])\n",
    "    # return a tuple of the bounding boxes and associated confidences\n",
    "    return (rects, confidences)"
   ]
  },
  {
   "cell_type": "code",
   "execution_count": 64,
   "metadata": {},
   "outputs": [
    {
     "name": "stdout",
     "output_type": "stream",
     "text": [
      "[INFO] loading EAST text detector...\n"
     ]
    }
   ],
   "source": [
    "(W, H) = (None, None)\n",
    "(newW, newH) = (width, height)\n",
    "(rW, rH) = (None, None)\n",
    "\n",
    "layerNames = [ \"feature_fusion/Conv_7/Sigmoid\",\n",
    "\t             \"feature_fusion/concat_3\"]\n",
    "# load the pre-trained EAST text detector\n",
    "print(\"[INFO] loading EAST text detector...\")\n",
    "net = cv2.dnn.readNet(east_model)"
   ]
  },
  {
   "cell_type": "code",
   "execution_count": 65,
   "metadata": {},
   "outputs": [],
   "source": [
    "while True:\n",
    "  ret,frame = vid.read()\n",
    "  if frame is None:\n",
    "    break\n",
    "# resize the frame, maintaining the aspect ratio\n",
    "  frame = imutils.resize(frame, width=1000)\n",
    "  orig = frame.copy()\n",
    "  if W is None or H is None:\n",
    "    (H, W) = frame.shape[:2]\n",
    "    rW = W / float(newW)\n",
    "    rH = H / float(newH)\n",
    "  frame = cv2.resize(frame, (newW, newH))\n",
    "  blob = cv2.dnn.blobFromImage(frame, 1.0, (newW, newH),(123.68, 116.78, 103.94), swapRB=True, crop=False)\n",
    "  net.setInput(blob)\n",
    "  (scores, geometry) = net.forward(layerNames)\n",
    "  (rects, confidences) = decode_predictions(scores, geometry)\n",
    "  boxes = non_max_suppression(np.array(rects), probs=confidences)\n",
    "  for (startX, startY, endX, endY) in boxes:\n",
    "    # scale the bounding box coordinates based on the respective\n",
    "    # ratios\n",
    "    startX = int(startX * rW)\n",
    "    startY = int(startY * rH)\n",
    "    endX = int(endX * rW)\n",
    "    endY = int(endY * rH)\n",
    "    boundary=2\n",
    "    config = (\"-l eng --oem 1 --psm 7\")\n",
    "    r = orig[startY-boundary:endY+boundary, startX-boundary:endX+boundary]\n",
    "    r=cv2.cvtColor(r.astype(np.uint8),cv2.COLOR_BGR2GRAY)\n",
    "    textrecog = pytesseract.image_to_string(cv2.rotate(r, cv2.ROTATE_180),config=config)\n",
    "    # draw the bounding box on the frame\n",
    "    cv2.rectangle(orig, (startX, startY), (endX, endY), (0, 255, 0), 2)\n",
    "    # Put text\n",
    "    cv2.putText(orig,textrecog, (startX, startY - 30),cv2.FONT_HERSHEY_SIMPLEX, 0.7,(0,0, 255), 2)\n",
    "    cv2.imshow(\"Text Detection\", orig)\n",
    "    key = cv2.waitKey(30) \n",
    "    if key == 27:\n",
    "        break\n",
    "cv2.destroyAllWindows()"
   ]
  },
  {
   "cell_type": "code",
   "execution_count": 73,
   "metadata": {},
   "outputs": [],
   "source": [
    "output_path=\"F:/Bublu/Internship/data/frames/\"\n",
    "filename=1\n",
    "while True:\n",
    "    ret,frame = vid.read()\n",
    "    if frame is None:\n",
    "        break\n",
    "    frame = imutils.resize(frame, width=1000)\n",
    "    full_name=output_path+str(filename)+\".jpg\"\n",
    "    cv2.imwrite(full_name,frame) \n",
    "    filename+=1"
   ]
  },
  {
   "cell_type": "code",
   "execution_count": null,
   "metadata": {},
   "outputs": [],
   "source": []
  }
 ],
 "metadata": {
  "kernelspec": {
   "display_name": "Python 3",
   "language": "python",
   "name": "python3"
  },
  "language_info": {
   "codemirror_mode": {
    "name": "ipython",
    "version": 3
   },
   "file_extension": ".py",
   "mimetype": "text/x-python",
   "name": "python",
   "nbconvert_exporter": "python",
   "pygments_lexer": "ipython3",
   "version": "3.7.3"
  }
 },
 "nbformat": 4,
 "nbformat_minor": 2
}
